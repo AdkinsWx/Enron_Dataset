{
 "cells": [
  {
   "cell_type": "markdown",
   "metadata": {},
   "source": [
    "# Enron Machine Learning Project\n",
    "### By Matthew Adkins\n",
    "\n",
    "In 2000, Enron was one of the largest companies in the United States. By 2002, it had collapsed into bankruptcy due to widespread corporate fraud. In the resulting Federal investigation, a significant amount of typically confidential information entered into the public record, including tens of thousands of emails and detailed financial data for top executives.\n",
    "\n",
    "In this project I will apply my knowledge of machine learning and build a person of interest identifier. The identifier will harness financial and email data that was made public.\n",
    "\n",
    "There are four critical steps in this project:\n",
    "\n",
    "1. Enron Dataset Cleaning\n",
    "2. Feature Creation and Processing\n",
    "3. Applying a Learning Algorithm\n",
    "4. Validating the Accuracy of the Algorithm"
   ]
  },
  {
   "cell_type": "markdown",
   "metadata": {},
   "source": [
    "## 1. The Enron Dataset\n",
    "\n",
    "\n",
    "We'll start by loading the loading up the dataset and then we'll take a peak at what we can use to start creating an effective identifier."
   ]
  },
  {
   "cell_type": "code",
   "execution_count": 1,
   "metadata": {},
   "outputs": [
    {
     "name": "stderr",
     "output_type": "stream",
     "text": [
      "C:\\Users\\Owner\\Anaconda2\\lib\\site-packages\\sklearn\\cross_validation.py:41: DeprecationWarning: This module was deprecated in version 0.18 in favor of the model_selection module into which all the refactored classes and functions are moved. Also note that the interface of the new CV iterators are different from that of this module. This module will be removed in 0.20.\n",
      "  \"This module will be removed in 0.20.\", DeprecationWarning)\n",
      "C:\\Users\\Owner\\Anaconda2\\lib\\site-packages\\sklearn\\grid_search.py:42: DeprecationWarning: This module was deprecated in version 0.18 in favor of the model_selection module into which all the refactored classes and functions are moved. This module will be removed in 0.20.\n",
      "  DeprecationWarning)\n"
     ]
    }
   ],
   "source": [
    "\n",
    "import matplotlib.pyplot as plt\n",
    "import sys\n",
    "import pickle\n",
    "\n",
    "from sklearn import preprocessing\n",
    "from time import time\n",
    "from sklearn.naive_bayes import GaussianNB\n",
    "from sklearn.metrics import accuracy_score\n",
    "from sklearn.metrics import precision_score\n",
    "from sklearn.metrics import recall_score\n",
    "from sklearn.grid_search import GridSearchCV\n",
    "from tester import dump_classifier_and_data\n",
    "sys.path.append(\"../tools/\")\n",
    "\n",
    "\n",
    "from feature_format import featureFormat\n",
    "from feature_format import targetFeatureSplit\n",
    "\n",
    "\n",
    "### Task 1: Select what features you'll use.\n",
    "### features_list is a list of strings, each of which is a feature name.\n",
    "### The first feature must be \"poi\".\n",
    "features_list = [\"poi\", \"poi_per_to_msg\", \"poi_per_from_msg\",'bonus', 'shared_receipt_with_poi']\n",
    "\n",
    "### Load the dictionary containing the dataset\n",
    "data_dict = pickle.load(open(\"final_project_dataset.pkl\", \"r\") )"
   ]
  },
  {
   "cell_type": "markdown",
   "metadata": {},
   "source": [
    "Now that we have the data loaded in to our programs let's take a look at the structure.\n",
    "\n",
    "We'll see how many executives are included in the set as well as what kind of financial and email data we have on each one."
   ]
  },
  {
   "cell_type": "code",
   "execution_count": 2,
   "metadata": {},
   "outputs": [
    {
     "name": "stdout",
     "output_type": "stream",
     "text": [
      "Total executives:  146\n"
     ]
    }
   ],
   "source": [
    "print \"Total executives: \", len(data_dict.keys())"
   ]
  },
  {
   "cell_type": "code",
   "execution_count": 3,
   "metadata": {},
   "outputs": [
    {
     "name": "stdout",
     "output_type": "stream",
     "text": [
      "Total features:  21\n"
     ]
    }
   ],
   "source": [
    "print \"Total features: \", len(data_dict['SKILLING JEFFREY K'].keys())"
   ]
  },
  {
   "cell_type": "code",
   "execution_count": 4,
   "metadata": {},
   "outputs": [
    {
     "name": "stdout",
     "output_type": "stream",
     "text": [
      "Here is the list of features: \n",
      "\n",
      "['salary', 'to_messages', 'deferral_payments', 'total_payments', 'exercised_stock_options', 'bonus', 'restricted_stock', 'shared_receipt_with_poi', 'restricted_stock_deferred', 'total_stock_value', 'expenses', 'loan_advances', 'from_messages', 'other', 'from_this_person_to_poi', 'poi', 'director_fees', 'deferred_income', 'long_term_incentive', 'email_address', 'from_poi_to_this_person']\n"
     ]
    }
   ],
   "source": [
    "print \"Here is the list of features: \" + \"\\n\" + \"\\n\",str(data_dict['SKILLING JEFFREY K'].keys())"
   ]
  },
  {
   "cell_type": "code",
   "execution_count": 5,
   "metadata": {},
   "outputs": [
    {
     "name": "stdout",
     "output_type": "stream",
     "text": [
      "{'salary': 365788, 'to_messages': 807, 'deferral_payments': 'NaN', 'total_payments': 1061827, 'exercised_stock_options': 'NaN', 'bonus': 600000, 'restricted_stock': 585062, 'shared_receipt_with_poi': 702, 'restricted_stock_deferred': 'NaN', 'total_stock_value': 585062, 'expenses': 94299, 'loan_advances': 'NaN', 'from_messages': 29, 'other': 1740, 'from_this_person_to_poi': 1, 'poi': False, 'director_fees': 'NaN', 'deferred_income': 'NaN', 'long_term_incentive': 'NaN', 'email_address': 'mark.metts@enron.com', 'from_poi_to_this_person': 38}\n"
     ]
    }
   ],
   "source": [
    "print data_dict['METTS MARK']"
   ]
  },
  {
   "cell_type": "markdown",
   "metadata": {},
   "source": [
    "So, we can see that there are 146 executives in the data set with numerous amounts of information on each. While we are looking at the features in this data we should think about what features would be helpful in creating new features from. \n",
    "\n",
    "Originally I made two features options_per_stock and bonus_per_salary. The logic was that person's of interest (poi) would sell their equity in the company and pay themselves outsized bonuses. However, I could not obtain a high accuracy with the correct precision and recall parameters. So, in this iteration of the project we will look at two new features:\n",
    "\n",
    "1. poi_per_to_msg\n",
    "2. poi_per_from_msg\n",
    "\n",
    "\n",
    "These two features look at an individuals to and from messages and what fraction of each where to known poi's. Since the the financial behaviors were harder to pin down let's see if we have better luck using email behaviors.\n",
    "\n",
    "Let's take a look at some of the known poi's."
   ]
  },
  {
   "cell_type": "code",
   "execution_count": 6,
   "metadata": {
    "scrolled": true
   },
   "outputs": [
    {
     "name": "stdout",
     "output_type": "stream",
     "text": [
      " Here is the list of 18 POI's: \n",
      "\n",
      "['HANNON KEVIN P', 'COLWELL WESLEY', 'RIEKER PAULA H', 'KOPPER MICHAEL J', 'SHELBY REX', 'DELAINEY DAVID W', 'LAY KENNETH L', 'BOWEN JR RAYMOND M', 'BELDEN TIMOTHY N', 'FASTOW ANDREW S', 'CALGER CHRISTOPHER F', 'RICE KENNETH D', 'SKILLING JEFFREY K', 'YEAGER F SCOTT', 'HIRKO JOSEPH', 'KOENIG MARK E', 'CAUSEY RICHARD A', 'GLISAN JR BEN F']\n"
     ]
    }
   ],
   "source": [
    "count = 0\n",
    "poi = []\n",
    "\n",
    "for data in data_dict:\n",
    "    if data_dict[data]['poi'] == 1:\n",
    "        count += 1\n",
    "        poi.append(data)\n",
    "print \" Here is the list of \" + str(count) + \" POI's: \" + \"\\n\"\n",
    "print poi"
   ]
  },
  {
   "cell_type": "markdown",
   "metadata": {},
   "source": [
    "Next we'll look at any missing data in our features, ie NaN values."
   ]
  },
  {
   "cell_type": "code",
   "execution_count": 7,
   "metadata": {
    "scrolled": true
   },
   "outputs": [
    {
     "name": "stdout",
     "output_type": "stream",
     "text": [
      "Number of Missing Values for Each Feature:\n",
      "salary: 51\n",
      "to_messages: 60\n",
      "deferral_payments: 107\n",
      "total_payments: 21\n",
      "exercised_stock_options: 44\n",
      "bonus: 64\n",
      "restricted_stock: 36\n",
      "shared_receipt_with_poi: 60\n",
      "restricted_stock_deferred: 128\n",
      "total_stock_value: 20\n",
      "expenses: 51\n",
      "loan_advances: 142\n",
      "from_messages: 60\n",
      "other: 53\n",
      "from_this_person_to_poi: 60\n",
      "poi: 0\n",
      "director_fees: 129\n",
      "deferred_income: 97\n",
      "long_term_incentive: 80\n",
      "email_address: 35\n",
      "from_poi_to_this_person: 60\n"
     ]
    }
   ],
   "source": [
    "missing_value = {}\n",
    "all_features = data_dict['LOCKHART EUGENE E'].keys()\n",
    "people = data_dict.keys()\n",
    "for feature in all_features:\n",
    "    missing_value[feature]=0\n",
    "for person in people:\n",
    "    records = 0\n",
    "    for feature in all_features:\n",
    "        if data_dict[person][feature] == 'NaN':\n",
    "            missing_value[feature] += 1\n",
    "        else:\n",
    "            records +=1\n",
    "        \n",
    "print('Number of Missing Values for Each Feature:')\n",
    "for feature in all_features:\n",
    "    print(\"%s: %d\" % (feature, missing_value[feature]))"
   ]
  },
  {
   "cell_type": "markdown",
   "metadata": {},
   "source": [
    "As you can see by the table above we have quite a lot of NaN values in our data set. Converting them to zero will help fill in the gaps in the data.\n",
    "\n",
    "\n",
    "\n",
    "\n",
    "Now before we get too far let's look for any obvious outliers. We'll plot and see if we can visually see any of the outliers."
   ]
  },
  {
   "cell_type": "code",
   "execution_count": 8,
   "metadata": {},
   "outputs": [
    {
     "data": {
      "image/png": "[encoded data removed]",
      "text/plain": [
       "<matplotlib.figure.Figure at 0xbd4b2b0>"
      ]
     },
     "metadata": {},
     "output_type": "display_data"
    },
    {
     "name": "stdout",
     "output_type": "stream",
     "text": [
      "The person with the highest paid salary is:  TOTAL\n",
      "Highest paid salary:  26704229\n"
     ]
    }
   ],
   "source": [
    "### Task 2: Remove outliers\n",
    "\n",
    "#Plot showing outlier\n",
    "features=['bonus', 'salary']\n",
    "data = featureFormat(data_dict, features)\n",
    "for point in data:\n",
    "    salary=point[0]\n",
    "    bonus=point[1]\n",
    "    plt.scatter(salary,bonus)\n",
    "plt.xlabel('salary')\n",
    "plt.ylabel('bonus')\n",
    "plt.show()\n",
    "\n",
    "\n",
    "salaries = []\n",
    "\n",
    "for i in data_dict:\n",
    "    if type(data_dict[i]['salary'])== int:\n",
    "        salaries.append(data_dict[i]['salary'])\n",
    "for i in data_dict:    \n",
    "    if data_dict[i]['salary'] == max(salaries):\n",
    "        print \"The person with the highest paid salary is: \", i\n",
    "print \"Highest paid salary: \", str(max(salaries))\n",
    "\n"
   ]
  },
  {
   "cell_type": "markdown",
   "metadata": {},
   "source": [
    "After plotting the graph we can clearly see an outlier. This outlier happens to be the total salary for the whole dataset. So, since it is not an actual person we will remove it leaving us with 145 real Enron executives.\n",
    "\n",
    "While we are removing the outliers we will also remove any NaN's from the data set."
   ]
  },
  {
   "cell_type": "code",
   "execution_count": 9,
   "metadata": {
    "scrolled": false
   },
   "outputs": [
    {
     "data": {
      "image/png": "[encoded data removed]",
      "text/plain": [
       "<matplotlib.figure.Figure at 0x6b02588>"
      ]
     },
     "metadata": {},
     "output_type": "display_data"
    }
   ],
   "source": [
    "### remove any outliers before proceeding further\n",
    "features = [\"salary\", \"bonus\"]\n",
    "data_dict.pop('TOTAL', 0)\n",
    "data = featureFormat(data_dict, features)\n",
    "\n",
    "### remove NAN's from dataset\n",
    "outliers = []\n",
    "for key in data_dict:\n",
    "    val = data_dict[key]['salary']\n",
    "    if val == 'NaN':\n",
    "        continue\n",
    "    outliers.append((key, int(val)))\n",
    "\n",
    "\n",
    "#plot after removing the outlier\n",
    "for point in data:\n",
    "    salary=point[0]\n",
    "    bonus=point[1]\n",
    "    plt.scatter(salary,bonus)\n",
    "plt.xlabel('salary')\n",
    "plt.ylabel('bonus')\n",
    "plt.show()"
   ]
  },
  {
   "cell_type": "markdown",
   "metadata": {},
   "source": [
    "After removing the outlier we can see the graph is much easier to interpret. There does seem to be a few outliers but these may also be our poi's. Let's take a look at the top four salaries and determine if any are known poi's.\n",
    "\n"
   ]
  },
  {
   "cell_type": "code",
   "execution_count": 10,
   "metadata": {},
   "outputs": [
    {
     "name": "stdout",
     "output_type": "stream",
     "text": [
      "The top 4 highest salary holders are:  [('SKILLING JEFFREY K', 1111258), ('LAY KENNETH L', 1072321), ('FREVERT MARK A', 1060932), ('PICKERING MARK R', 655037)]\n"
     ]
    }
   ],
   "source": [
    "highest_sal = sorted(outliers,key =lambda x:x[1], reverse=True)[:4]\n",
    "\n",
    "\n",
    "print \"The top 4 highest salary holders are: \", highest_sal"
   ]
  },
  {
   "cell_type": "code",
   "execution_count": 11,
   "metadata": {},
   "outputs": [
    {
     "name": "stdout",
     "output_type": "stream",
     "text": [
      "The following are POI's among our top 4 outliers: \n",
      "SKILLING JEFFREY K\n",
      "LAY KENNETH L\n"
     ]
    }
   ],
   "source": [
    "#determine if they are poi's\n",
    "print \"The following are POI's among our top 4 outliers: \"\n",
    "for person in highest_sal:\n",
    "    if data_dict[person[0]]['poi'] == 1:\n",
    "        print person[0]"
   ]
  },
  {
   "cell_type": "markdown",
   "metadata": {},
   "source": [
    "Now we can see that some of the outliers are indeed POI's and thus we won't need any further cleaning of the data. So, with the data cleaned to where we need it we can now move on to feature processing."
   ]
  },
  {
   "cell_type": "markdown",
   "metadata": {},
   "source": [
    "## 2. Feature Processing\n",
    "\n",
    "Now that we have finished cleaning and removing outliers from the we can start creating a predicative algorithm to find POI's. We'll start but seeing how well the original features can predict a potential POI. After we discover a baseline of accuracy we will try to improve it by creating new features of our own.\n",
    "\n"
   ]
  },
  {
   "cell_type": "code",
   "execution_count": 12,
   "metadata": {},
   "outputs": [
    {
     "name": "stdout",
     "output_type": "stream",
     "text": [
      "Accuracy:   0.706896551724\n",
      "Precision:   0.153846153846\n",
      "Recall:   0.25\n",
      "Decision Tree run time:   0.016 s\n"
     ]
    }
   ],
   "source": [
    "#data_dict = pickle.load(open(\"../final_project/final_project_dataset.pkl\", \"r\") )\n",
    "\n",
    "features_list = ['poi','salary', 'from_poi_to_this_person', 'from_this_person_to_poi', 'to_messages', 'deferral_payments', 'total_payments', 'exercised_stock_options', 'bonus', 'restricted_stock', 'shared_receipt_with_poi', 'restricted_stock_deferred', 'total_stock_value', 'expenses', 'loan_advances', 'from_messages', 'other', 'director_fees', 'deferred_income', 'long_term_incentive']\n",
    "\n",
    "data = featureFormat(data_dict, features_list)\n",
    "labels, features = targetFeatureSplit(data)\n",
    "\n",
    "\n",
    "#split data into traing and testing sets\n",
    "from sklearn.cross_validation import train_test_split\n",
    "features_train, features_test, labels_train, labels_test = train_test_split(features, labels, test_size= 0.4, random_state = 42)\n",
    "\n",
    "#utlize decision tree\n",
    "from sklearn.tree import DecisionTreeClassifier\n",
    "t0 = time()\n",
    "clf = DecisionTreeClassifier()\n",
    "clf = clf.fit(features_train, labels_train)\n",
    "pred = clf.predict(features_test)\n",
    "\n",
    "from sklearn.metrics import accuracy_score\n",
    "acc= accuracy_score(labels_test, pred)\n",
    "print 'Accuracy:  ' , str(acc)\n",
    "print 'Precision:  ', precision_score(labels_test, pred)\n",
    "print 'Recall:  ', recall_score(labels_test, pred)\n",
    "print 'Decision Tree run time:  ', round(time()-t0, 3), 's'"
   ]
  },
  {
   "cell_type": "markdown",
   "metadata": {},
   "source": [
    "Using the given features we obtain an accuracy of about 71%. Next we will make a list that shows the importance of each feature. With this we can decide which features are worth keeping around."
   ]
  },
  {
   "cell_type": "code",
   "execution_count": 13,
   "metadata": {
    "scrolled": true
   },
   "outputs": [
    {
     "name": "stdout",
     "output_type": "stream",
     "text": [
      "1 Feature salary (0.303225638483)\n",
      "2 Feature from_poi_to_this_person (0.212288925439)\n",
      "3 Feature from_this_person_to_poi (0.182731050113)\n",
      "4 Feature to_messages (0.169736842105)\n",
      "5 Feature deferral_payments (0.111271929825)\n",
      "6 Feature total_payments (0.0207456140351)\n",
      "7 Feature exercised_stock_options (0.0)\n",
      "8 Feature bonus (0.0)\n",
      "9 Feature restricted_stock (0.0)\n",
      "10 Feature shared_receipt_with_poi (0.0)\n"
     ]
    }
   ],
   "source": [
    "\n",
    "import numpy as np\n",
    "\n",
    "importance = clf.feature_importances_\n",
    "index = np.argsort(importance)[::-1]\n",
    "\n",
    "for i in range(10):\n",
    "    print \"{} Feature {} ({})\".format(i+1, features_list[i+1], importance[index[i]])"
   ]
  },
  {
   "cell_type": "markdown",
   "metadata": {},
   "source": [
    "After establishing a ranking we can see that there are several features that contribute very little to our accuracy. We will be leaving these features out from further calculations.\n",
    "\n",
    "Next let's create our new features and see if we can improve on the accuracy measures."
   ]
  },
  {
   "cell_type": "code",
   "execution_count": 14,
   "metadata": {
    "collapsed": true
   },
   "outputs": [],
   "source": [
    "### Task 3: Create new feature(s)\n",
    "\n",
    "### create new features\n",
    "### poi_per_to_msg = (from_poi_to_this_person)/(to_messages)\n",
    "### poi_per_from_msg = (from_this_person_to_poi)/(from_messages)\n",
    "\n",
    "def dict_to_list(key,normalizer):\n",
    "    new_list=[]\n",
    "\n",
    "    for i in data_dict:\n",
    "        if data_dict[i][key]==\"NaN\" or data_dict[i][normalizer]==\"NaN\":\n",
    "            new_list.append(0.)\n",
    "        elif data_dict[i][key]>=0:\n",
    "            new_list.append(float(data_dict[i][key])/float(data_dict[i][normalizer]))\n",
    "    return new_list\n",
    "\n",
    "### creating new list of features\n",
    "poi_per_to_msg=dict_to_list(\"from_poi_to_this_person\",\"to_messages\")\n",
    "poi_per_from_msg=dict_to_list(\"from_this_person_to_poi\",\"from_messages\")\n",
    "\n",
    "### insert new features into data_dict\n",
    "count=0\n",
    "for i in data_dict:\n",
    "    data_dict[i][\"poi_per_to_msg\"]=poi_per_to_msg[count]\n",
    "    data_dict[i][\"poi_per_from_msg\"]=poi_per_from_msg[count]\n",
    "    count +=1\n",
    "\n",
    "#test\n",
    "#print data_dict['SKILLING JEFFREY K']['poi_per_to_msg']"
   ]
  },
  {
   "cell_type": "markdown",
   "metadata": {},
   "source": [
    "## 3. Applying Learning Algorithms\n",
    "\n",
    "\n",
    "Now that we created our new features that we want to explore lets take a look at how accurate our creations are at identifying poi's."
   ]
  },
  {
   "cell_type": "code",
   "execution_count": 15,
   "metadata": {
    "scrolled": false
   },
   "outputs": [
    {
     "name": "stdout",
     "output_type": "stream",
     "text": [
      "Accuracy:  0.733333333333\n",
      "Precision:   0.5\n",
      "Recall:   0.5\n"
     ]
    }
   ],
   "source": [
    "### Store to my_dataset for easy export below.\n",
    "my_dataset = data_dict\n",
    "features_list = ['poi','poi_per_to_msg','poi_per_from_msg','salary', 'from_poi_to_this_person', 'from_this_person_to_poi', 'to_messages', 'deferral_payments', 'total_payments', 'exercised_stock_options', 'bonus', 'restricted_stock', 'shared_receipt_with_poi', 'restricted_stock_deferred', 'total_stock_value', 'from_messages', 'director_fees', 'deferred_income', 'long_term_incentive']\n",
    "\n",
    "\n",
    "### Extract features and labels from dataset for local testing\n",
    "data = featureFormat(my_dataset, features_list)\n",
    "\n",
    "## split into labels and features (this line assumes that the first\n",
    "### feature in the array is the label, which is why \"poi\" must always\n",
    "### be first in features_list\n",
    "labels, features = targetFeatureSplit(data)\n",
    "\n",
    "\n",
    "#Provided to give you a starting point. Try a variety of classifiers.\n",
    "features_train, features_test, labels_train, labels_test = train_test_split(features, labels, test_size=0.1, random_state=42)\n",
    "\n",
    "#t0 = time()\n",
    "clf =DecisionTreeClassifier()\n",
    "clf = clf.fit(features_train, labels_train)\n",
    "pred = clf.predict(features_test)\n",
    "\n",
    "acc = accuracy_score(labels_test, pred)\n",
    "print 'Accuracy:  ' + str(acc)\n",
    "print 'Precision:  ', precision_score(labels_test, pred)\n",
    "print 'Recall:  ', recall_score(labels_test, pred)\n",
    "#print 'Run Time:  ', round(time()-t0, 3), 's'\n"
   ]
  },
  {
   "cell_type": "markdown",
   "metadata": {},
   "source": [
    "After adding our new features it appears that the precision has increased but the accuracy and recall haven't gotten to a desirable value. Let's recheck the features using SelectKBest. This should help narrow down the features a bit better than relying on my own intuition.\n",
    "\n",
    "SelectKBest takes in all of the features and will return the top most valuable features, in this case we asked for the top 12 features. This will help us further our accuracy, precision, and recall ratings.\n",
    "\n"
   ]
  },
  {
   "cell_type": "code",
   "execution_count": 16,
   "metadata": {},
   "outputs": [
    {
     "name": "stdout",
     "output_type": "stream",
     "text": [
      "The best features to use are:  ['poi', 'poi_per_to_msg', 'deferral_payments', 'total_payments', 'exercised_stock_options', 'bonus', 'restricted_stock', 'restricted_stock_deferred', 'total_stock_value', 'expenses', 'director_fees', 'deferred_income']\n"
     ]
    }
   ],
   "source": [
    "from sklearn.feature_selection import SelectKBest\n",
    "data_dict = pickle.load(open(\"../final_project/final_project_dataset.pkl\", \"r\") )\n",
    "\n",
    "features_list = ['poi','salary', 'poi_per_to_msg', 'poi_per_from_msg', 'from_poi_to_this_person', 'from_this_person_to_poi', 'to_messages', 'deferral_payments', 'total_payments', 'exercised_stock_options', 'bonus', 'restricted_stock', 'shared_receipt_with_poi', 'restricted_stock_deferred', 'total_stock_value', 'expenses', 'loan_advances', 'from_messages', 'other', 'director_fees', 'deferred_income', 'long_term_incentive']\n",
    "\n",
    "data= featureFormat(my_dataset, features_list)\n",
    "labels, features = targetFeatureSplit(data)\n",
    "\n",
    "features_train, features_test, labels_train, labels_test = train_test_split(features, labels, test_size=0.1, random_state=42)\n",
    "\n",
    "\n",
    "selector = SelectKBest(k=12)\n",
    "selectedFeatures = selector.fit(features, labels)\n",
    "features_names = [features_list[i] for i in selectedFeatures.get_support(indices=True)]\n",
    "\n",
    "print 'The best features to use are: ', features_names"
   ]
  },
  {
   "cell_type": "markdown",
   "metadata": {},
   "source": [
    "As we can see from above we now have a list of the top 12 features to use. It looks like that one of our created features 'poi_per_from_msg' did not make the top 12. However, I decided to keep it as I want to see if we can achieve credible accuracy scores using both of the new features.\n",
    "\n",
    "\n",
    "Now that we have a better idea of what features should be used let's see if this achieves the imporvements that we are looking for."
   ]
  },
  {
   "cell_type": "code",
   "execution_count": 17,
   "metadata": {},
   "outputs": [
    {
     "name": "stdout",
     "output_type": "stream",
     "text": [
      "Accuracy:  0.6\n",
      "Precision:   0.25\n",
      "Recall:   0.25\n"
     ]
    }
   ],
   "source": [
    "data_dict = pickle.load(open(\"../final_project/final_project_dataset.pkl\", \"r\") )\n",
    "\n",
    "features_list = ['poi', 'poi_per_to_msg', 'poi_per_from_msg', 'deferral_payments', 'total_payments', 'exercised_stock_options', 'bonus', 'restricted_stock', 'restricted_stock_deferred','total_stock_value','expenses', 'director_fees', 'deferred_income']\n",
    "data = featureFormat(my_dataset, features_list)\n",
    "labels, features = targetFeatureSplit(data)\n",
    "\n",
    "features_train, features_test, labels_train, labels_test = train_test_split(features, labels, test_size=0.1, random_state=42)\n",
    "\n",
    "clf =DecisionTreeClassifier()\n",
    "clf = clf.fit(features_train, labels_train)\n",
    "pred = clf.predict(features_test)\n",
    "\n",
    "acc = accuracy_score(labels_test, pred)\n",
    "print 'Accuracy:  ' + str(acc)\n",
    "print 'Precision:  ', precision_score(labels_test, pred)\n",
    "print 'Recall:  ', recall_score(labels_test, pred)\n"
   ]
  },
  {
   "cell_type": "code",
   "execution_count": null,
   "metadata": {
    "collapsed": true
   },
   "outputs": [],
   "source": []
  },
  {
   "cell_type": "code",
   "execution_count": null,
   "metadata": {
    "collapsed": true,
    "scrolled": true
   },
   "outputs": [],
   "source": []
  },
  {
   "cell_type": "markdown",
   "metadata": {},
   "source": [
    "After using the recommended features our accuracy, precision, and recall scores were more or less flat. I also decided to leave my feature 'poi_per_from_msg' in the feature list as a way to see it's affect on other algorithms. So let's see if any other algorithm's will improve on our scores.\n",
    "\n",
    "\n",
    "\n",
    "### Adaboost"
   ]
  },
  {
   "cell_type": "code",
   "execution_count": 18,
   "metadata": {},
   "outputs": [
    {
     "name": "stdout",
     "output_type": "stream",
     "text": [
      "Accuracy:   0.844827586207\n",
      "Precision:   0.4\n",
      "Recall:   0.25\n"
     ]
    }
   ],
   "source": [
    "features_list = ['poi', 'poi_per_to_msg', 'poi_per_from_msg', 'deferral_payments', 'total_payments', 'exercised_stock_options', 'bonus', 'restricted_stock', 'restricted_stock_deferred','total_stock_value','expenses', 'director_fees', 'deferred_income']\n",
    "data = featureFormat(my_dataset, features_list)\n",
    "labels, features = targetFeatureSplit(data)\n",
    "\n",
    "features_train, features_test, labels_train, labels_test = train_test_split(features, labels, test_size = 0.4, random_state = 42)\n",
    "\n",
    "\n",
    "from sklearn.ensemble import AdaBoostClassifier\n",
    "\n",
    "t0 = time()\n",
    "\n",
    "clf = AdaBoostClassifier()\n",
    "clf = clf.fit(features_train, labels_train)\n",
    "pred = clf.predict(features_test)\n",
    "\n",
    "acc = accuracy_score(labels_test, pred)\n",
    "\n",
    "print 'Accuracy:  ', str(acc)\n",
    "print 'Precision:  ' ,precision_score(labels_test, pred)\n",
    "print 'Recall:  ' ,recall_score(labels_test, pred)"
   ]
  },
  {
   "cell_type": "markdown",
   "metadata": {},
   "source": [
    "Using the Adaboost classifier the accuracy increased by our precision and recall scores fell. This could be a sign of underfitting as the Adaboost algorithm is favoring misidentifying POI's, which is a small part of the dataset, over misidentifying non-POI's, the greater part of the dataset. Because of this let's see if RandomForest will be a better solution versus our DecisionTree."
   ]
  },
  {
   "cell_type": "code",
   "execution_count": 19,
   "metadata": {
    "scrolled": true
   },
   "outputs": [
    {
     "name": "stdout",
     "output_type": "stream",
     "text": [
      "Accuracy:   0.879310344828\n",
      "Precision:   1.0\n",
      "Recall:   0.125\n"
     ]
    }
   ],
   "source": [
    "from sklearn.ensemble import RandomForestClassifier\n",
    "\n",
    "clf = RandomForestClassifier()\n",
    "clf = clf.fit(features_train, labels_train)\n",
    "pred = clf.predict(features_test)\n",
    "\n",
    "acc = accuracy_score(labels_test, pred)\n",
    "\n",
    "print 'Accuracy:  ', str(acc)\n",
    "print 'Precision:  ', precision_score(labels_test, pred)\n",
    "print 'Recall:  ', recall_score(labels_test, pred)"
   ]
  },
  {
   "cell_type": "markdown",
   "metadata": {},
   "source": [
    "Using the RandomForestClassifier the accuracy came out as significantly better than Adaboost but Recall fell greatly while precision is 1.0. This could be a sign that the RandomForest classifier is overfitting and not giving us accurate measures. Given this observation it appears that DecisionTree is the best algorithm for our data_set."
   ]
  },
  {
   "cell_type": "code",
   "execution_count": null,
   "metadata": {
    "collapsed": true
   },
   "outputs": [],
   "source": []
  },
  {
   "cell_type": "markdown",
   "metadata": {},
   "source": []
  },
  {
   "cell_type": "markdown",
   "metadata": {},
   "source": [
    "## 4. Validating and Algorithm Tuning\n",
    "\n",
    "Here we will take DecisionTree algor## 4. Validating and Algorithm Tuning\n",
    "\n",
    "Here we will take DecisionTree algorithm and tune it to see if we improve on our already superior results. Using GridSearchCV as a guide we should be able to find the ideal settings for DecisionTree.\n",
    "\n",
    " This is important as tuning the parameters allows us to finely tune the DecisionTree from or towards overfitting of the data. We can also change a parameter like max_depth to determine with features have a chance of becoming a decision node.\n",
    " \n",
    " This algorithm was validated by using cross-valdiation, precision and recall scores. \n",
    " \n",
    "It is important to note that, though we have been using accuracy throughout the program it should be avoided in our final validation. This is because the number of POIs is much smaller (18 in our test set, that the total number of executives (145 after cleaning the outlier) in our dataset thus giving our dataset a large imbalance. This creates a problem for machine learning algorithms where the algorithm underfits the data. Without proper tuning the algorithm will miss a large number of our POI's but will correctly identify regular executives as being non-POI's. This leads to a smaller number of total mistakes and gives us a higher accuracy rating. However, in our case this is problematic because we would rather capture more of the POI's at the cost of misidentifying non-POI's. So putting our accuracy score on the back burner and tune to increase our Precision and Recall scores we will capture more of our POI's.\n",
    "\n",
    "\n",
    "Now, let's tune our algorithm and see if we improve on our results from above. Using GridSearchCV as a guide we should be able to find the ideal settings for DecisionTree"
   ]
  },
  {
   "cell_type": "code",
   "execution_count": 22,
   "metadata": {},
   "outputs": [
    {
     "name": "stdout",
     "output_type": "stream",
     "text": [
      "The ideal tuned settings for DecisionTree is: \n",
      "DecisionTreeClassifier(class_weight=None, criterion='gini', max_depth=3,\n",
      "            max_features=3, max_leaf_nodes=None, min_impurity_decrease=0.0,\n",
      "            min_impurity_split=None, min_samples_leaf=1,\n",
      "            min_samples_split=4, min_weight_fraction_leaf=0.0,\n",
      "            presort=False, random_state=None, splitter='best')\n"
     ]
    }
   ],
   "source": [
    "### Task 5: Tune your classifier to achieve better than .3 precision and recall \n",
    "### using our testing script. Check the tester.py script in the final project\n",
    "### folder for details on the evaluation method, especially the test_classifier\n",
    "### function. Because of the small size of the dataset, the script uses\n",
    "### stratified shuffle split cross validation. For more info: \n",
    "### http://scikit-learn.org/stable/modules/generated/sklearn.cross_validation.StratifiedShuffleSplit.html\n",
    "data = my_dataset\n",
    "features_list = ['poi', 'poi_per_to_msg', 'poi_per_from_msg', 'deferral_payments', 'total_payments', 'exercised_stock_options', 'bonus', 'restricted_stock', 'restricted_stock_deferred','total_stock_value','expenses', 'director_fees', 'deferred_income']\n",
    "data = featureFormat(my_dataset, features_list)\n",
    "labels, features = targetFeatureSplit(data)\n",
    "\n",
    "features_train, features_test, labels_train, labels_test = train_test_split(features, labels, test_size = 0.4, random_state = 42)\n",
    "\n",
    "\n",
    "parameters = {'min_samples_split': [2,3,4,5,6,7,8], 'max_depth': [1,2,3,4,5,6,7,8], 'max_features': range(3,10)}\n",
    "clf = GridSearchCV(DecisionTreeClassifier(), parameters)\n",
    "clf = clf.fit(features_train, labels_train)\n",
    "\n",
    "print 'The ideal tuned settings for DecisionTree is: '\n",
    "print clf.best_estimator_\n"
   ]
  },
  {
   "cell_type": "markdown",
   "metadata": {},
   "source": [
    "Using GridSearchCV we were able to find the ideal parameters for our DecisionTree. \n",
    "\n",
    "\n",
    "### More on validation\n",
    "The next step is to pass it through our final validation in which we will split the data into a training set and a testing set. The training set allows us to develop the algorithm while the test set tells us how well the algorithm will preform when applied to the full data set. It's important to know that we do not train the data on the test. This is because we would receive an accuracy of 100% but in reality the algorithm would have been poorly trained. \n",
    "\n",
    "With that said we used the StratifiedShuffledSplit from the test_classifier function found in test.py. This function works well with small and unbalanced datasets such as the one we are currently working on.\n",
    "\n"
   ]
  },
  {
   "cell_type": "code",
   "execution_count": null,
   "metadata": {
    "collapsed": true
   },
   "outputs": [],
   "source": [
    "data = my_dataset\n",
    "features_list = ['poi', 'poi_per_to_msg', 'poi_per_from_msg', 'deferral_payments', 'total_payments', 'exercised_stock_options', 'bonus', 'restricted_stock', 'restricted_stock_deferred','total_stock_value','expenses', 'director_fees', 'deferred_income']\n",
    "\n",
    "data = featureFormat(my_dataset, features_list)\n",
    "labels, features = targetFeatureSplit(data)\n",
    "\n",
    "from tester import test_classifier\n",
    "\n",
    "test_classifier(clf, my_dataset, features_list)\n",
    "\n",
    "### Task 6: Dump your classifier, dataset, and features_list so anyone can\n",
    "### check your results. You do not need to change anything below, but make sure\n",
    "### that the version of poi_id.py that you submit can be run on its own and\n",
    "### generates the necessary .pkl files for validating your results.\n",
    "\n",
    "dump_classifier_and_data(clf, my_dataset, features_list)"
   ]
  },
  {
   "cell_type": "code",
   "execution_count": null,
   "metadata": {
    "collapsed": true
   },
   "outputs": [],
   "source": []
  },
  {
   "cell_type": "markdown",
   "metadata": {
    "scrolled": true
   },
   "source": [
    "Even after running GridSearchCV it still took some experimentation to find the right mixture of settings to achieve a the desired Precision and Recall score of better than 0.3. It's important to keep in mind that when viewing these scores 1.0 is the best and 0.0 is the worst."
   ]
  },
  {
   "cell_type": "markdown",
   "metadata": {},
   "source": [
    "## Conclusions\n",
    "\n",
    "Interpretating our precision an recall values helps us determine how well our program is at identifying POI's from other executives. Precision measures false positives or how many executives would be falsely identified as POI's. Given our value of 0.4 this means that 60% of our identified POI's are false alarms. \n",
    "\n",
    "Our other measure recall measures false negatives or how many POI's would be misidentified as regular executives. Given our value of .57 this means that we have captured 57% of the time we captured one of the POI's but at the price of misidentifying regular executives. This could be a case of overfitting the data and thus capturing too many points that don't belong in the POI group.\n",
    "\n",
    "As mentioned in the beginning of this paper I attempted to use financial data but the precision and recall was far below our threshold value of 0.3. This means that using the financial parameters I created was very inefficient. With this said further looking into the actual words used in the emails to/from the POI's could help keep our 33% of innocent executives safe from prosecution. Using a data set of keywords used between executives and the POI's would make our algorithm even more accurate.\n",
    "\n",
    "Notes on feature scaling:\n",
    "\n",
    "In this case we did not use feature scaling, meaning we did not scale down/up a feature that has more/less data points in relationship to the other features. This is because DecisionTree does not need feature scaling as it splits based on each feature independently. Thus, scaling the features would be inappropiate for our chosen algorithm. "
   ]
  }
 ],
 "metadata": {
  "kernelspec": {
   "display_name": "Python [conda root]",
   "language": "python",
   "name": "conda-root-py"
  },
  "language_info": {
   "codemirror_mode": {
    "name": "ipython",
    "version": 2
   },
   "file_extension": ".py",
   "mimetype": "text/x-python",
   "name": "python",
   "nbconvert_exporter": "python",
   "pygments_lexer": "ipython2",
   "version": "2.7.13"
  }
 },
 "nbformat": 4,
 "nbformat_minor": 2
}
